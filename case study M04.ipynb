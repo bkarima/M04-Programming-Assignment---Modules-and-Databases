{
 "cells": [
  {
   "cell_type": "code",
   "execution_count": 17,
   "id": "25b29382",
   "metadata": {},
   "outputs": [],
   "source": [
    "# 11.1 \n",
    "#  Create a file called zoo.py. In it, define a function called hours()\n",
    "#  that prints the string 'Open 9-5 daily'\n",
    "\n",
    "\n",
    "#zoo.py (wont work on this unless zoo.py file is on the same folder)\n",
    "\n",
    "def hours ():\n",
    "    return \"Open 9-5 daily\""
   ]
  },
  {
   "cell_type": "code",
   "execution_count": 18,
   "id": "b17ebe80",
   "metadata": {},
   "outputs": [
    {
     "data": {
      "text/plain": [
       "'Open 9-5 daily'"
      ]
     },
     "execution_count": 18,
     "metadata": {},
     "output_type": "execute_result"
    }
   ],
   "source": [
    "#Import the zoo module and call its hours() function\n",
    "import zoo\n",
    "hours()"
   ]
  },
  {
   "cell_type": "code",
   "execution_count": 2,
   "id": "37d33873",
   "metadata": {},
   "outputs": [
    {
     "name": "stdout",
     "output_type": "stream",
     "text": [
      "Open 9-5 daily\n"
     ]
    }
   ],
   "source": [
    "#     11.2\n",
    "import zoo as menagerie\n",
    "hours()"
   ]
  },
  {
   "cell_type": "code",
   "execution_count": 8,
   "id": "c60d201b",
   "metadata": {},
   "outputs": [],
   "source": [
    "#16.8\n",
    "lines = [\n",
    "    \"author,book\",\n",
    "    \"J R R Tolkien,The Hobbit\",\n",
    "    'Lynne Truss,\"Eats, Shoots & Leaves\"'\n",
    "]\n",
    "\n",
    "with open('books.csv', 'w') as file:\n",
    "    for line in lines:\n",
    "        file.write(line + '\\n')"
   ]
  },
  {
   "cell_type": "code",
   "execution_count": 9,
   "id": "bdcbeaf9",
   "metadata": {},
   "outputs": [
    {
     "name": "stdout",
     "output_type": "stream",
     "text": [
      "[{'author': 'J R R Tolkien', 'book': 'The Hobbit'}, {'author': 'Lynne Truss', 'book': 'Eats, Shoots & Leaves'}]\n"
     ]
    }
   ],
   "source": [
    "import csv\n",
    "\n",
    "with open('books.csv', 'r') as file:\n",
    "    reader = csv.DictReader(file)\n",
    "    books = list(reader)\n",
    "\n",
    "print(books)"
   ]
  },
  {
   "cell_type": "code",
   "execution_count": 10,
   "id": "fdd8ed47",
   "metadata": {},
   "outputs": [],
   "source": [
    "lines = [\n",
    "    \"title,author,year\",\n",
    "    \"The Weirdstone of Brisingamen,Alan Garner,1960\",\n",
    "    \"Perdido Street Station,China Miéville,2000\",\n",
    "    \"Thud!,Terry Pratchett,2005\",\n",
    "    \"The Spellman Files,Lisa Lutz,2007\",\n",
    "    \"Small Gods,Terry Pratchett,1992\"\n",
    "]\n",
    "\n",
    "with open('books2.csv', 'w') as file:\n",
    "    for line in lines:\n",
    "        file.write(line + '\\n')"
   ]
  },
  {
   "cell_type": "code",
   "execution_count": 11,
   "id": "37e12eb2",
   "metadata": {},
   "outputs": [],
   "source": [
    "import sqlite3\n",
    "\n",
    "conn = sqlite3.connect('books.db')\n",
    "cursor = conn.cursor()\n",
    "\n",
    "cursor.execute('''\n",
    "    CREATE TABLE IF NOT EXISTS books (\n",
    "        title TEXT,\n",
    "        author TEXT,\n",
    "        year INTEGER\n",
    "    )\n",
    "''')\n",
    "\n",
    "conn.commit()\n",
    "conn.close()"
   ]
  },
  {
   "cell_type": "code",
   "execution_count": 12,
   "id": "fab715da",
   "metadata": {},
   "outputs": [],
   "source": [
    "with open('books2.csv', 'r') as file:\n",
    "    csv_reader = csv.reader(file)\n",
    "    next(csv_reader)  # skip the header\n",
    "    for row in csv_reader:\n",
    "        conn = sqlite3.connect('books.db')\n",
    "        cursor = conn.cursor()\n",
    "        cursor.execute('INSERT INTO books VALUES (?, ?, ?)', (row[0], row[1], int(row[2])))\n",
    "        conn.commit()\n",
    "        conn.close()"
   ]
  },
  {
   "cell_type": "code",
   "execution_count": 13,
   "id": "243c8d7e",
   "metadata": {},
   "outputs": [
    {
     "name": "stdout",
     "output_type": "stream",
     "text": [
      "[('Perdido Street Station',), ('Small Gods',), ('The Spellman Files',), ('The Weirdstone of Brisingamen',), ('Thud!',)]\n"
     ]
    }
   ],
   "source": [
    "conn = sqlite3.connect('books.db')\n",
    "cursor = conn.cursor()\n",
    "cursor.execute('SELECT title FROM books ORDER BY title')\n",
    "titles = cursor.fetchall()\n",
    "conn.close()\n",
    "\n",
    "print(titles)"
   ]
  },
  {
   "cell_type": "code",
   "execution_count": 14,
   "id": "34b39451",
   "metadata": {},
   "outputs": [
    {
     "name": "stdout",
     "output_type": "stream",
     "text": [
      "[('The Weirdstone of Brisingamen', 'Alan Garner', 1960), ('Small Gods', 'Terry Pratchett', 1992), ('Perdido Street Station', 'China Miéville', 2000), ('Thud!', 'Terry Pratchett', 2005), ('The Spellman Files', 'Lisa Lutz', 2007)]\n"
     ]
    }
   ],
   "source": [
    "# Select and print all columns from the book table in order of publication.\n",
    "\n",
    "conn = sqlite3.connect('books.db')\n",
    "cursor = conn.cursor()\n",
    "cursor.execute('SELECT * FROM books ORDER BY year')\n",
    "all_columns = cursor.fetchall()\n",
    "conn.close()\n",
    "\n",
    "print(all_columns)"
   ]
  },
  {
   "cell_type": "code",
   "execution_count": 15,
   "id": "41f0a4b0",
   "metadata": {},
   "outputs": [
    {
     "name": "stdout",
     "output_type": "stream",
     "text": [
      "2023-11-19 20:41:35,851 INFO sqlalchemy.engine.Engine PRAGMA main.table_xinfo(\"books\")\n",
      "2023-11-19 20:41:35,853 INFO sqlalchemy.engine.Engine [raw sql] ()\n",
      "2023-11-19 20:41:35,857 INFO sqlalchemy.engine.Engine SELECT sql FROM  (SELECT * FROM sqlite_master UNION ALL   SELECT * FROM sqlite_temp_master) WHERE name = ? AND type = 'table'\n",
      "2023-11-19 20:41:35,857 INFO sqlalchemy.engine.Engine [raw sql] ('books',)\n",
      "2023-11-19 20:41:35,863 INFO sqlalchemy.engine.Engine PRAGMA main.foreign_key_list(\"books\")\n",
      "2023-11-19 20:41:35,864 INFO sqlalchemy.engine.Engine [raw sql] ()\n",
      "2023-11-19 20:41:35,865 INFO sqlalchemy.engine.Engine PRAGMA temp.foreign_key_list(\"books\")\n",
      "2023-11-19 20:41:35,867 INFO sqlalchemy.engine.Engine [raw sql] ()\n",
      "2023-11-19 20:41:35,869 INFO sqlalchemy.engine.Engine SELECT sql FROM  (SELECT * FROM sqlite_master UNION ALL   SELECT * FROM sqlite_temp_master) WHERE name = ? AND type = 'table'\n",
      "2023-11-19 20:41:35,871 INFO sqlalchemy.engine.Engine [raw sql] ('books',)\n",
      "2023-11-19 20:41:35,874 INFO sqlalchemy.engine.Engine PRAGMA main.index_list(\"books\")\n",
      "2023-11-19 20:41:35,874 INFO sqlalchemy.engine.Engine [raw sql] ()\n",
      "2023-11-19 20:41:35,878 INFO sqlalchemy.engine.Engine PRAGMA main.index_list(\"books\")\n",
      "2023-11-19 20:41:35,878 INFO sqlalchemy.engine.Engine [raw sql] ()\n",
      "2023-11-19 20:41:35,878 INFO sqlalchemy.engine.Engine PRAGMA main.index_info(\"sqlite_autoindex_books_1\")\n",
      "2023-11-19 20:41:35,882 INFO sqlalchemy.engine.Engine [raw sql] ()\n",
      "2023-11-19 20:41:35,884 INFO sqlalchemy.engine.Engine SELECT sql FROM  (SELECT * FROM sqlite_master UNION ALL   SELECT * FROM sqlite_temp_master) WHERE name = ? AND type = 'table'\n",
      "2023-11-19 20:41:35,884 INFO sqlalchemy.engine.Engine [raw sql] ('books',)\n",
      "2023-11-19 20:41:35,891 INFO sqlalchemy.engine.Engine SELECT books.title \n",
      "FROM books ORDER BY books.title\n",
      "2023-11-19 20:41:35,891 INFO sqlalchemy.engine.Engine [generated in 0.00127s] ()\n",
      "Perdido Street Station\n",
      "Small Gods\n",
      "The Spellman Files\n",
      "The Weirdstone of Brisingamen\n",
      "Thud!\n"
     ]
    }
   ],
   "source": [
    "from sqlalchemy import create_engine, select, MetaData, Table\n",
    "\n",
    "engine = create_engine('sqlite:///books.db', echo=True)\n",
    "metadata = MetaData()\n",
    "books = Table('books', metadata, autoload_with=engine)\n",
    "\n",
    "with engine.connect() as connection:\n",
    "    stmt = select([books.columns.title]).order_by(books.columns.title)\n",
    "    results = connection.execute(stmt).fetchall()\n",
    "\n",
    "    for title in results:\n",
    "        print(title[0])"
   ]
  },
  {
   "cell_type": "code",
   "execution_count": null,
   "id": "083ac561",
   "metadata": {},
   "outputs": [],
   "source": []
  }
 ],
 "metadata": {
  "kernelspec": {
   "display_name": "Python 3 (ipykernel)",
   "language": "python",
   "name": "python3"
  },
  "language_info": {
   "codemirror_mode": {
    "name": "ipython",
    "version": 3
   },
   "file_extension": ".py",
   "mimetype": "text/x-python",
   "name": "python",
   "nbconvert_exporter": "python",
   "pygments_lexer": "ipython3",
   "version": "3.11.5"
  }
 },
 "nbformat": 4,
 "nbformat_minor": 5
}
